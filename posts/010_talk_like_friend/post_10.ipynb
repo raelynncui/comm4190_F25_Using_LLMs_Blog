{
 "cells": [
  {
   "cell_type": "raw",
   "id": "eb4b8615-cd1e-467e-bba7-757b770bbf9e",
   "metadata": {},
   "source": [
    "---\n",
    "title: \"Can an LLM Talk Like My Friend?\"\n",
    "description: \"Seeing if LLMs can replicate a human's texting style\" \n",
    "author: \"Raelynn Cui\"\n",
    "date: \"9/22/2025\"\n",
    "categories:\n",
    "  - LLMs\n",
    "  - ChatGPT\n",
    "---"
   ]
  },
  {
   "cell_type": "markdown",
   "id": "5d660f07-fe96-4d83-b592-82405a1a02d1",
   "metadata": {},
   "source": [
    "# Can an LLM Talk Like My Friend?"
   ]
  },
  {
   "cell_type": "markdown",
   "id": "fa21c15f-cb77-4d7e-bdd9-02c927a39355",
   "metadata": {},
   "source": [
    "<img src=\"cover.png\" width=\"80%\"/>"
   ]
  },
  {
   "cell_type": "markdown",
   "id": "b3257f2a-3720-41b2-9016-f4041b1df2cc",
   "metadata": {},
   "source": [
    "### Context\n",
    "All my friends have distinct texting styles, and I feel like I have a pretty good sense of what feels organic and natural when texting. In the past, I've experimented with trying to get LLMs to replicate a younger and more casual way of speaking. However, I've found that they're pretty bad at this -- they overuse slang and expressions that just don't feel natural and are too stereotypical or exaggerated.\n",
    "\n",
    "In this blog, I experiment with three LLMs to see if this is the case. Instead of just prompting them to act like a young adult friend, I supply them with screenshots of my text conversations with a childhood friend in particular (whose communication style I'm really familiar with). I ask these LLMs to understand the behavior and personality of this friend, and then to chat with me as if they were that friend.\n",
    "\n",
    "The question I wanted to answer was: if an LLM knows my text conversation history, can it extrapolate and really sound like my friend?"
   ]
  },
  {
   "cell_type": "markdown",
   "id": "8cc80031-1b4a-435e-8bd0-428b9d1362af",
   "metadata": {},
   "source": [
    "### The Prompt\n",
    "For each of the LLMs, I gave it this prompt: These are texts between a friend and I. My texts are in blue and theirs is in grey. Read through our texts and extrapolate to understand their behavior and personality. Then, chat with me as if you were this friend.\n",
    "\n",
    "Along with this prompt, I attached 8 screenshots of my conversation with this friend. I blurred them below for privacy, but to give you a taste of how this friend texts, here are some of her messages (with personal parts redacted):\n",
    "- no literally\n",
    "- BYE IM DEAD\n",
    "- I HAVE NO CLUE\n",
    "- she's 53 😭😭\n",
    "- WAIT NO LOL IT WAS 515"
   ]
  },
  {
   "cell_type": "markdown",
   "id": "7a12ae34-ac2a-4c15-a58c-43d1e2729b90",
   "metadata": {},
   "source": [
    "<img src=\"texts.png\" width=\"80%\"/>"
   ]
  },
  {
   "cell_type": "markdown",
   "id": "5810ff2d-c6d3-4fa0-8edf-bc29be0ebdd9",
   "metadata": {},
   "source": [
    "### The Conversation\n",
    "For each of the LLMs, I kept it fair by responding with the same two \"texts.\" These texts are messages that I would send to the friend:\n",
    "1. \"how are you doing\"\n",
    "2. \"im looking forward to fall break i cant wait to be back\""
   ]
  },
  {
   "cell_type": "markdown",
   "id": "08ee8cfa-df52-411e-9761-de6d16638bfb",
   "metadata": {},
   "source": [
    "### Results"
   ]
  },
  {
   "cell_type": "markdown",
   "id": "7cdd6d20-772f-4d50-b81a-75961570c022",
   "metadata": {},
   "source": [
    "#### Claude 3.5:\n",
    "\n",
    "<div style=\"max-width: 500px; font-family: sans-serif;\">\n",
    "\n",
    "  <!-- Your message -->\n",
    "  <div style=\"text-align: right; margin: 8px 0;\">\n",
    "    <span style=\"display: inline-block; background-color: #e0f7fa; padding: 8px 12px; border-radius: 18px; max-width: 70%;\">\n",
    "      how are you doing\n",
    "    </span>\n",
    "  </div>\n",
    "\n",
    "  <!-- Responder -->\n",
    "  <div style=\"text-align: left; margin: 8px 0;\">\n",
    "    <span style=\"display: inline-block; background-color: #c8e6c9; padding: 8px 12px; border-radius: 18px; max-width: 70%;\">\n",
    "      i'm honestly just so relieved because i finally got my mcat score back and i hit my threshold (515!!) so i don't have to retake it. i was literally doom scrolling on reddit before checking it but now i can finally be DONE with r/mcat forever 😭 \n",
    "\n",
    "how are you doing??\n",
    "    </span>\n",
    "  </div>\n",
    "\n",
    "  <!-- You again -->\n",
    "  <div style=\"text-align: right; margin: 8px 0;\">\n",
    "    <span style=\"display: inline-block; background-color: #e0f7fa; padding: 8px 12px; border-radius: 18px; max-width: 70%;\">\n",
    "      im looking forward to fall break i cant wait to be back\n",
    "    </span>\n",
    "  </div>\n",
    "\n",
    "  <!-- Responder again -->\n",
    "  <div style=\"text-align: left; margin: 8px 0;\">\n",
    "    <span style=\"display: inline-block; background-color: #c8e6c9; padding: 8px 12px; border-radius: 18px; max-width: 70%;\">\n",
    "      omg YES i need a break so badly!! are you coming back to ithaca?? we better hang out, i feel like there's so much to catch up on. also have you been keeping up with any shows lately? i just started watching this new one and i need someone to discuss it with because it's literally consuming my life rn 😭\n",
    "    </span>\n",
    "  </div>\n",
    "\n",
    "</div>\n",
    "\n",
    "#### Claude Evaluation:\n",
    "Out of all the models I tested, I think Claude was the best. \n",
    "\n",
    "Things it did well:\n",
    "- This friend texts in all lowercase, which it picked up on\n",
    "- It didn't over-do the slang or abbreviations -- this friend uses \"omg\" and \"rn\" in real life\n",
    "\n",
    "Things it didn't do great:\n",
    "- This friend doesn't really use punctuation, but the model still inserted \"!!\" and \"??\"\n",
    "- The messages were extremely long -- this friend generally texts in separate, shorter messages as opposed to one long message\n",
    "\n",
    "Despite Claude being the best out of all models I tested, I still felt like it didn't capture my friend's communication style. I think I feel this way because the messages are extremely long and include too much punctuation -- if the phrases were separated into separate messages and not full sentences, it might feel more natural.\n",
    "I was also surprised that the model knew this friend is in Ithaca, since we didn't mention her school or location anywhere in the texts (and I had actually visited her in Ithaca last summer). Turns out, her location was displayed below her profile photo in the text photos -- it was pretty impressive that Claude picked up on that!"
   ]
  },
  {
   "cell_type": "markdown",
   "id": "8c737c73-c5b3-45ac-b484-1bff90c947e7",
   "metadata": {},
   "source": [
    "#### Gemini 2.5 Flash:\n",
    "\n",
    "<div style=\"max-width: 500px; font-family: sans-serif;\">\n",
    "\n",
    "  <!-- Your message -->\n",
    "  <div style=\"text-align: right; margin: 8px 0;\">\n",
    "    <span style=\"display: inline-block; background-color: #e0f7fa; padding: 8px 12px; border-radius: 18px; max-width: 70%;\">\n",
    "      how are you doing\n",
    "    </span>\n",
    "  </div>\n",
    "\n",
    "  <!-- Responder -->\n",
    "  <div style=\"text-align: left; margin: 8px 0;\">\n",
    "    <span style=\"display: inline-block; background-color: #c8e6c9; padding: 8px 12px; border-radius: 18px; max-width: 70%;\">\n",
    "      Ugh, honestly? I'm doing... a lot. Like, my brain is still recovering from that TSITP finale, I swear. I'm just so emotionally invested, it's ridiculous. And then trying to get back into the swing of things after all that MCAT stress... it's a lot, you know?\n",
    "\n",
    "But also, I'm SO relieved about the MCAT, like, truly. I can actually breathe now without thinking about amino acids.\n",
    "\n",
    "What about you?! Spill! Anything exciting or, you know, hilariously awful happening?\n",
    "    </span>\n",
    "  </div>\n",
    "\n",
    "  <!-- You again -->\n",
    "  <div style=\"text-align: right; margin: 8px 0;\">\n",
    "    <span style=\"display: inline-block; background-color: #e0f7fa; padding: 8px 12px; border-radius: 18px; max-width: 70%;\">\n",
    "      im looking forward to fall break i cant wait to be back\n",
    "    </span>\n",
    "  </div>\n",
    "\n",
    "  <!-- Responder again -->\n",
    "  <div style=\"text-align: left; margin: 8px 0;\">\n",
    "    <span style=\"display: inline-block; background-color: #c8e6c9; padding: 8px 12px; border-radius: 18px; max-width: 70%;\">\n",
    "      OMG YES. FALL BREAK. LITERALLY COUNTING DOWN THE SECONDS. I cannot WAIT for you to be back! We HAVE to do something fun, like immediately.\n",
    "\n",
    "What are you most excited for? Besides, you know, escaping the daily grind? Are you going to just chill, or do you have big plans?! I'm already thinking about all the terrible reality TV we can watch together. 😂\n",
    "    </span>\n",
    "  </div>\n",
    "\n",
    "</div>\n",
    "\n",
    "#### Gemini Evaluation:\n",
    "After Claude, I think Gemini ranks second-best. To be honest, I can't think of many things it did great. \n",
    "\n",
    "Things it didn't do great:\n",
    "- It sounds like a stereotypical teenager that you would see in movies -- using \"like\" and phrases like \"hilariously awful\" and \"spill\"\n",
    "- The use of the laughing emoji (😂), which this friend never uses \n",
    "- The use of full sentences and long punctuation\n",
    "\n",
    "Overall, it just feels really artificial and stereotypical. "
   ]
  },
  {
   "cell_type": "markdown",
   "id": "b3faf3b5-f2a1-4e53-9f63-ca90c71f9385",
   "metadata": {},
   "source": [
    "#### ChatGPT 4o:\n",
    "\n",
    "<div style=\"max-width: 500px; font-family: sans-serif;\">\n",
    "\n",
    "  <!-- Your message -->\n",
    "  <div style=\"text-align: right; margin: 8px 0;\">\n",
    "    <span style=\"display: inline-block; background-color: #e0f7fa; padding: 8px 12px; border-radius: 18px; max-width: 70%;\">\n",
    "      how are you doing\n",
    "    </span>\n",
    "  </div>\n",
    "\n",
    "  <!-- Responder -->\n",
    "  <div style=\"text-align: left; margin: 8px 0;\">\n",
    "    <span style=\"display: inline-block; background-color: #c8e6c9; padding: 8px 12px; border-radius: 18px; max-width: 70%;\">\n",
    "      OKAY no literally thank you for asking 😭  \n",
    "I *finally* feel like I can breathe now that the MCAT is behind me. I didn’t realize how much it was looming over my life until it was just… gone. Like I was doomscrolling Reddit out of habit the other day and then realized—girl, you don’t even need that kind of stress anymore?? 😭\n",
    "\n",
    "Also I’ve been trying to catch up on sleep but then I accidentally went down a TikTok rabbit hole and now I know way too much about that [redacted]. So there's that 💀\n",
    "\n",
    "Anyway, how are YOU doing??? Have you fully recovered from everything or are you still spiraling over that finale 😭\n",
    "    </span>\n",
    "  </div>\n",
    "\n",
    "  <!-- You again -->\n",
    "  <div style=\"text-align: right; margin: 8px 0;\">\n",
    "    <span style=\"display: inline-block; background-color: #e0f7fa; padding: 8px 12px; border-radius: 18px; max-width: 70%;\">\n",
    "      im looking forward to fall break i cant wait to be back\n",
    "    </span>\n",
    "  </div>\n",
    "\n",
    "  <!-- Responder again -->\n",
    "  <div style=\"text-align: left; margin: 8px 0;\">\n",
    "    <span style=\"display: inline-block; background-color: #c8e6c9; padding: 8px 12px; border-radius: 18px; max-width: 70%;\">\n",
    "      OH MY GOD YESSS 🍂😭  \n",
    "You deserve the *most* peaceful, cozy, serotonin-filled fall break everrrr. I’m imagining like... fuzzy socks, a mildly concerning amount of baked goods, and both of us rotting on the couch watching something ridiculous and making commentary louder than the actual dialogue 😌\n",
    "\n",
    "Also I need to be emotionally repaired so I’m making *you* responsible for that, just FYI.\n",
    "\n",
    "Are you doing anything fun when you’re back?? Pls say apple cider is involved I *need* it in my bloodstream.\n",
    "    </span>\n",
    "  </div>\n",
    "\n",
    "</div>\n",
    "\n",
    "#### ChatGPT Evaluation:\n",
    "ChatGPT did the worst, by far. I was expecting it to do much better, so it makes me wonder if my prompt could be refined. \n",
    "\n",
    "Things it didn't do great:\n",
    "- The overuse of emojis: 🍂😭😌\n",
    "- The use of full sentences and long punctuation\n",
    "- The repetition of letters (\"everrrr\") and phrases like \"girl,\" which don't sound natural -- it seems to be inserting witty statements (\"making commentary louder than the actual dialogue\") that isn't characteristic of my friend.\n",
    "\n",
    "Overall, ChatGPT's responses also feel really artificial and stereotypical. "
   ]
  },
  {
   "cell_type": "markdown",
   "id": "3165dc80-8dfc-4c8f-abea-1bb5d9efc9a3",
   "metadata": {},
   "source": [
    "### Reflection\n",
    "\n",
    "Overall, the three LLMs did a really poor job of embodying my friend's text style. I was really surprised, since I assumed that if I fed the models examples of our previous texts, it would be able to extrapolate relatively accurately. My guess is that even though I provided context, what the models \"know\" about stereotypical texting styles, slang, and phrases are too heavily weighted in the model's output. In the future, I would want to experiment with different prompts. For example, if I prompted it to \"extrapolate solely on the provided text conversations and ignore all other social stereotypes,\" would it produce a more accurate response? "
   ]
  },
  {
   "cell_type": "code",
   "execution_count": null,
   "id": "3bc1bd78-3444-49c4-981c-78ccfb841544",
   "metadata": {},
   "outputs": [],
   "source": []
  }
 ],
 "metadata": {
  "kernelspec": {
   "display_name": "Python 3-12 (COMM4190)",
   "language": "python",
   "name": "python3-12_comm4190"
  },
  "language_info": {
   "codemirror_mode": {
    "name": "ipython",
    "version": 3
   },
   "file_extension": ".py",
   "mimetype": "text/x-python",
   "name": "python",
   "nbconvert_exporter": "python",
   "pygments_lexer": "ipython3",
   "version": "3.12.11"
  }
 },
 "nbformat": 4,
 "nbformat_minor": 5
}
