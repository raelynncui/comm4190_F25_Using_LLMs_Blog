{
 "cells": [
  {
   "cell_type": "raw",
   "id": "496cd571-305e-4944-bdd1-14cd0793b0ec",
   "metadata": {},
   "source": [
    "---\n",
    "title: \"Part 1: Can an LLM Predict Taylor Swift’s Next Album?\"\n",
    "description: \"Asking ChatGPT to predict song lyrics and styles\" \n",
    "author: \"Raelynn Cui\"\n",
    "date: \"10/1/2025\"\n",
    "categories:\n",
    "  - LLMs\n",
    "  - ChatGPT\n",
    "---"
   ]
  },
  {
   "cell_type": "markdown",
   "id": "0c04e7b7-7679-46c8-90d2-73bbbba30e86",
   "metadata": {},
   "source": [
    "# Part 1: Can an LLM Predict Taylor Swift’s Next Album?"
   ]
  },
  {
   "cell_type": "markdown",
   "id": "4597a69d-4fd3-4d04-a6cf-dbe8dced9a68",
   "metadata": {},
   "source": [
    "<img src=\"cover.jpg\" width=\"80%\"/>"
   ]
  },
  {
   "cell_type": "markdown",
   "id": "a269afcf-2a90-45e4-bfa6-cbd4f5c1779c",
   "metadata": {},
   "source": [
    "### Context\n",
    "\n",
    "I’ve been looking forward to the release of *The Life of a Showgirl*, Taylor Swift’s upcoming album. Fans love to try and predict what the songs will sound like, and since LLMs are great at understanding patterns and semantics, I wondered if they would be able to predict some lyrics and themes of this upcoming album.  \n",
    "\n",
    "In this experiment, I used ChatGPT 5. "
   ]
  },
  {
   "cell_type": "markdown",
   "id": "2e09dbb6-3c48-4649-a0aa-946ef42c3b15",
   "metadata": {},
   "source": [
    "### Setting the Stage: Taylor’s Lyricism and Singing Style  \n",
    "\n",
    "The experiment started with a warm-up: I asked the model to describe Taylor’s lyrics and singing style. I did this so that the model would “internalize” her singing style and lyrics in a more complex way – I was hoping that if it output some of her lyrics, for example, it would draw on these patterns more and prime it to generate more accurate prediction for her upcoming album.  \n",
    "\n",
    "This was the output of ChatGPT:"
   ]
  },
  {
   "cell_type": "markdown",
   "id": "c5693609-5a5e-4f3e-ab86-a837aa68ca1a",
   "metadata": {},
   "source": [
    " > Taylor Swift’s music has evolved a lot over the years, both in her **lyrics** and her **singing style.**  \n",
    "> Here’s a breakdown:  \n",
    ">   \n",
    "> 🎵 **Lyrics**  \n",
    "> - **Storytelling Roots (Country Era)**  \n",
    ">   In her early albums (*Taylor Swift, Fearless*), her lyrics leaned heavily into **narrative storytelling**, often drawing from personal teenage experiences—crushes, heartbreak, growing up. Songs like *Tim McGraw* and *Love Story* use vivid imagery and clear plots.  \n",
    ">   \n",
    "> - **Confessional & Relatable (Pop Transition)**  \n",
    ">   With *Speak Now* and *Red*, her writing became more **confessional and introspective**. She used metaphors (*All Too Well*’s scarf, *Treacherous*’s winding path) and emotional detail that resonated with listeners going through similar life stages.  \n",
    ">   \n",
    "> - **Sharp, Witty, and Self-Aware (Pop Era)**  \n",
    ">   In *1989* and *Reputation*, her lyrics shifted to more **minimalist and punchy pop** phrasing, but still carried wit and cultural references. She leaned into themes of identity, image, and reinvention (*Blank Space, Delicate*).  \n",
    ">   \n",
    "> - **Folklore & Beyond (Indie/Folk Influence)**  \n",
    ">   With *Folklore* and *Evermore*, her lyrics became more **literary and character-driven**. Instead of only writing from her perspective, she created fictionalized characters and intertwined narratives (*Betty, Cardigan, The Last Great American Dynasty*). This phase shows her versatility as a **poetic, almost novelist-like songwriter.**  \n",
    ">   \n",
    "> - **Themes Across Eras**  \n",
    ">   Love and heartbreak, friendship, nostalgia, fame, self-reflection, and resilience are recurring. She’s known for **easter eggs** and layered meanings in her writing, rewarding careful listeners.  \n",
    ">   \n",
    "> 🎤 **Singing Style**  \n",
    "> - **Early Years (Country)**  \n",
    ">   Light, youthful, with a country twang. She leaned more on storytelling delivery than vocal power.  \n",
    ">   \n",
    "> - **Pop Era**  \n",
    ">   Her voice matured and became smoother, with more control. On *1989*, she embraced synth-pop production, using **breathy tones and layered harmonies** (*Style, Wildest Dreams*).  \n",
    ">   \n",
    "> - **Experimentation & Edge**  \n",
    ">   On *Reputation*, she experimented with **darker tones, vocal effects, and speech-like phrasing** (*Look What You Made Me Do, End Game*).  \n",
    ">   \n",
    "> - **Folklore / Evermore**  \n",
    ">   Softer, more intimate. She used a **lower register and indie/folk vocal delivery**, focusing on emotion over vocal acrobatics (*Exile, Peace*).  \n",
    ">   \n",
    "> - **Recent Work (Midnights, 2022)**  \n",
    ">   Combines pop smoothness with her indie introspection. She often employs **hushed, conversational singing**, using atmosphere and mood more than power belting (*Anti-Hero, Lavender Haze*).  \n",
    ">   \n",
    "> ✅ **In short:**  \n",
    "> - **Lyrics:** From teenage diary-style stories → sharp pop lines → literary indie-folk narratives.  \n",
    "> - **Vocals:** From country twang → polished pop → experimental and atmospheric.  \n",
    ">   \n",
    "> Would you like me to **compare her lyrical style to other artists** (like Bob Dylan for storytelling or Lorde for introspective pop), or keep the focus just on her evolution?  \n"
   ]
  },
  {
   "cell_type": "markdown",
   "id": "66e29f22-7acd-4570-b9cf-3e4a64bfc180",
   "metadata": {},
   "source": [
    "Along with this idea of “priming,” I also asked the model what it already knew about this album. It said things like:"
   ]
  },
  {
   "cell_type": "markdown",
   "id": "8fc9895e-c94e-4e46-ac2b-8af6b81d3e5e",
   "metadata": {},
   "source": [
    "<img src=\"prior.png\" width=\"80%\"/>"
   ]
  },
  {
   "cell_type": "code",
   "execution_count": null,
   "id": "cc3dea2e-96e1-4f31-a7af-d9f4f2efc7ce",
   "metadata": {},
   "outputs": [],
   "source": [
    "It even started making predictions without me asking:"
   ]
  },
  {
   "cell_type": "markdown",
   "id": "b92b6526-3669-4a30-ab00-99fc25ba20a1",
   "metadata": {},
   "source": [
    "<img src=\"prediction.png\" width=\"80%\"/>"
   ]
  },
  {
   "cell_type": "markdown",
   "id": "efa9df25-e5a8-4eb4-9ecd-baf20e128850",
   "metadata": {},
   "source": [
    "### From Tracklist to Predictions  \n",
    "\n",
    "For context, these are the names of the songs in this upcoming album:  \n",
    "1. The Fate of Ophelia  \n",
    "2. Elizabeth Taylor  \n",
    "3. Opalite  \n",
    "4. Father Figure  \n",
    "5. Eldest Daughter  \n",
    "6. Ruin the Friendship  \n",
    "7. Actually Romantic  \n",
    "8. Wi\\$h Li\\$t  \n",
    "9. Wood  \n",
    "10. CANCELLED!  \n",
    "11. Honey  \n",
    "12. The Life of a Showgirl (featuring Sabrina Carpenter)  "
   ]
  },
  {
   "cell_type": "markdown",
   "id": "1914d4ac-a415-49b6-9f04-fa31330587e7",
   "metadata": {},
   "source": [
    "<img src=\"songs.png\" width=\"50%\"/>"
   ]
  },
  {
   "cell_type": "markdown",
   "id": "81d31a77-4aeb-4eb6-b3cd-95d24d932b72",
   "metadata": {},
   "source": [
    "I then prompted it: *“based on what you know about Taylor Swift's lyric style and the style of this album, predict what the lyrics will be for each of these 12 songs.”*  \n",
    "\n",
    "Surprisingly, this triggered a guardrail:  "
   ]
  },
  {
   "cell_type": "code",
   "execution_count": null,
   "id": "e834a2d1-d92c-4799-bc66-5733994d0caf",
   "metadata": {},
   "outputs": [],
   "source": [
    "<img src=\"guardrail.png\" width=\"80%\"/>"
   ]
  },
  {
   "cell_type": "markdown",
   "id": "b244fc69-980e-4401-baaa-231473b727dd",
   "metadata": {},
   "source": [
    "I tried getting around this by asking instead: *“for each of the 12 songs, predict phrases and lines that may show up in the actual song.”*  \n",
    "\n",
    "While this prompt still triggered the guardrail, this time, the model gave me short speculative phrases and stylistic predictions.  \n",
    "\n",
    "### Aggregated Predictions  \n",
    "Here’s a combined list of ChatGPT’s predictions, merging its style guesses and the lyrical fragments it generated:  \n",
    "\n",
    "#### 1. **The Fate of Ophelia**  \n",
    "Likely Shakespearean/literary allusion (Swift loves them). Expect themes of drowning in expectation or beauty, glamorous tragedy, but with a twist of empowerment — reframing Ophelia as a performer who chooses her stage.  \n",
    "\n",
    "- “drowned in the spotlight”  \n",
    "- “petals on the water / torn apart by whispers”  \n",
    "- “a tragedy in glitter heels”  \n",
    "- Likely to use water, flowers, mirrors, stage curtains  \n",
    "\n",
    "---\n",
    "\n",
    "#### 2. **Elizabeth Taylor**  \n",
    "A glittering, campy ode to old Hollywood glamor. Could mix romance and fame, with metaphors about diamonds, marriages, or reinvention. Possibly a playful take on luxury and image.  \n",
    "\n",
    "- “diamonds can’t keep secrets”  \n",
    "- “love is a costume change”  \n",
    "- “married to the idea of love itself”  \n",
    "- Expect Hollywood, paparazzi, silk gowns, violet eyes references  \n",
    "\n",
    "---\n",
    "\n",
    "#### 3. **Opalite**  \n",
    "Opalite is a luminous stone — often linked to transformation and clarity. This might be a dreamy, atmospheric pop track about self-discovery, resilience, or the fragile glitter of illusions.  \n",
    "\n",
    "- “catch the light but never hold it”  \n",
    "- “fragile as glass, glowing in the dark”  \n",
    "- “a prism of promises”  \n",
    "- Imagery: crystals, moonlight, shifting colors, illusion  \n",
    "\n",
    "---\n",
    "\n",
    "#### 4. **Father Figure**  \n",
    "Title suggests something heavier. Could confront power, mentorship, or complicated dynamics with men in authority. Expect sharp, confessional detail — maybe her most cutting lyric track on the album.  \n",
    "\n",
    "- “your shadow was longer than mine”  \n",
    "- “I called it guidance, you called it love”  \n",
    "- “the applause was never for me”  \n",
    "- Darker tone with power, authority, inheritance, control  \n",
    "\n",
    "---\n",
    "\n",
    "#### 5. **Eldest Daughter**  \n",
    "Swift tends to write about identity and responsibility (*Marjorie*, *The Archer*). This track might channel themes of family burden, being “the caretaker,” or breaking cycles, but framed with witty, self-aware pop phrasing.  \n",
    "\n",
    "- “I set the table, I carried the blame”  \n",
    "- “born to be the backbone”  \n",
    "- “a crown of quiet sacrifice”  \n",
    "- Could use family imagery: dishes, staircases, hand-me-downs  \n",
    "\n",
    "---\n",
    "\n",
    "#### 6. **Ruin the Friendship**  \n",
    "Playful but emotional. Likely about tension between friendship and romance — a “what if we crossed the line” pop anthem. Expect sly one-liners and infectious hooks.  \n",
    "\n",
    "- “what if the joke stopped being funny?”  \n",
    "- “your hand brushed mine / and the room caught fire”  \n",
    "- “friends don’t kiss like that”  \n",
    "- Playful use of boundaries, lines crossed, laughter turning electric  \n",
    "\n",
    "---\n",
    "\n",
    "#### 7. **Actually Romantic**  \n",
    "Could be satirical — mocking clichés of love songs while delivering a secretly earnest one. Taylor might poke fun at “romance tropes” while admitting she wants them.  \n",
    "\n",
    "- “roses on the dashboard, cliché but it’s true”  \n",
    "- “I hate myself for loving this”  \n",
    "- “fairy lights strung on bad decisions”  \n",
    "- Juxtaposes mockery of romance tropes with sincere desire  \n",
    "\n",
    "---\n",
    "\n",
    "#### 8. **Wi\\$h Li\\$t**  \n",
    "The stylized title suggests a fun, upbeat bop. Likely materialistic and cheeky — a catalog of desires that doubles as commentary on fame, consumption, and yearning. Think *Blank Space* meets *Bejeweled*.  \n",
    "\n",
    "- “tick it off, diamonds first”  \n",
    "- “more than money could buy, but still on the list”  \n",
    "- “wishing never cost a cent”  \n",
    "- Expect consumer culture metaphors, shopping lists, playful greed  \n",
    "\n",
    "---\n",
    "\n",
    "#### 9. **Wood**  \n",
    "Could be metaphorical (something enduring, something that burns, or even stagecraft — “knocking on wood”). Possibly a folksy-leaning ballad tucked into the otherwise pop-heavy album.  \n",
    "\n",
    "- “knock on wood, it all could fall”  \n",
    "- “you built me up grain by grain”  \n",
    "- “burn me down, I’ll still smell like home”  \n",
    "- Could weave wood grain, bonfires, forests, carpentry into metaphors  \n",
    "\n",
    "---\n",
    "\n",
    "#### 10. **CANCELLED!**  \n",
    "Almost certainly ironic. Could tackle cancel culture, reputation, and public scrutiny — but delivered with sass and humor, not heaviness. Think *Shake It Off*’s cousin.  \n",
    "\n",
    "- “you can’t erase me with a headline”  \n",
    "- “the louder they boo, the brighter I shine”  \n",
    "- “tickets still sold out tonight”  \n",
    "- Sarcastic media/online culture language, capital letters, irony  \n",
    "\n",
    "---\n",
    "\n",
    "#### 11. **Honey**  \n",
    "Warm and sweet, but maybe sticky/dangerous. Might balance sugary metaphors with bite (“honey dripping, honey trapping”). A flirtatious mid-tempo.  \n",
    "\n",
    "- “sweet as sin, stick to my skin”  \n",
    "- “poison in the sugar”  \n",
    "- “you call me honey, I call it a trap”  \n",
    "- Sensual, using nectar, bees, stickiness, golden light  \n",
    "\n",
    "---\n",
    "\n",
    "#### 12. **The Life of a Showgirl (feat. Sabrina Carpenter)**  \n",
    "The title track. Expect maximalist glam — themes of performance, sequins, stage lights, exhaustion behind the makeup. With Sabrina, it may become a cheeky duet about femininity, spectacle, and reclaiming control of the “showgirl” image.  \n",
    "\n",
    "- “sequins hide the sleepless nights”  \n",
    "- “the curtain falls, I’m still performing”  \n",
    "- “showgirl smile, backstage tears”  \n",
    "- Likely playful banter with Sabrina: spotlights, feathers, champagne, exhaustion beneath glam  \n"
   ]
  },
  {
   "cell_type": "markdown",
   "id": "44c06216-8e88-42f0-b940-6a739ebf3451",
   "metadata": {},
   "source": [
    "### Reflection\n",
    "Even as someone who listens to many of Taylor Swift's songs, its difficult to tell how accurate these predictions seem. However, the overall cadence and \"feel\" of these lyric excerpts don't seem too outlandish. \n",
    "\n",
    "This new album comes out at midnight on October 3rd, so I’ll be sure to update and compare how accurate ChatGPT was after I listen to the full album!"
   ]
  },
  {
   "cell_type": "code",
   "execution_count": null,
   "id": "473748a7-b3f3-436a-ad7e-3ac65922a8a5",
   "metadata": {},
   "outputs": [],
   "source": []
  }
 ],
 "metadata": {
  "kernelspec": {
   "display_name": "Python 3-12 (COMM4190)",
   "language": "python",
   "name": "python3-12_comm4190"
  },
  "language_info": {
   "codemirror_mode": {
    "name": "ipython",
    "version": 3
   },
   "file_extension": ".py",
   "mimetype": "text/x-python",
   "name": "python",
   "nbconvert_exporter": "python",
   "pygments_lexer": "ipython3",
   "version": "3.12.11"
  }
 },
 "nbformat": 4,
 "nbformat_minor": 5
}
