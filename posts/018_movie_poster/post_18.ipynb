{
 "cells": [
  {
   "cell_type": "raw",
   "id": "fff2f4e2-7540-4427-9c14-fc369a936417",
   "metadata": {},
   "source": [
    "---\n",
    "title: \"Generating Stylized Movie Posters\"\n",
    "description: \"Having ChatGPT mimic poster styles\" \n",
    "author: \"Raelynn Cui\"\n",
    "date: \"10/24/2025\"\n",
    "categories:\n",
    "  - LLMs\n",
    "  - Image Generation\n",
    "  - ChatGPT\n",
    "---"
   ]
  },
  {
   "cell_type": "markdown",
   "id": "c775b27b-8ed9-402d-a785-f89ca365ae7c",
   "metadata": {},
   "source": [
    "# Generating Stylized Movie Posters"
   ]
  },
  {
   "cell_type": "markdown",
   "id": "dbdb3749-451c-40e3-b24e-be01a2e03dc0",
   "metadata": {},
   "source": [
    "<img src=\"cover.png\" width=\"100%\"/>"
   ]
  },
  {
   "cell_type": "markdown",
   "id": "de7d809c-fa6e-4156-a20a-9442586e0fee",
   "metadata": {},
   "source": [
    "## Context"
   ]
  },
  {
   "cell_type": "markdown",
   "id": "2797e2ce-4be7-47fd-a62e-fd57bc83b489",
   "metadata": {},
   "source": [
    "Recently, my mom reached out to me for help with generating a movie poster for one of her favorite films, Terms of Endearment. This was the image she wanted to use:"
   ]
  },
  {
   "cell_type": "markdown",
   "id": "1615b39b-3e4b-4e84-8d40-e080a56be7e4",
   "metadata": {},
   "source": [
    "<img src=\"tod_og.jpg\" width=\"30%\"/>"
   ]
  },
  {
   "cell_type": "markdown",
   "id": "274940d5-fba4-46fd-8488-f05af44c6280",
   "metadata": {},
   "source": [
    "However, she wanted it in the following style:"
   ]
  },
  {
   "cell_type": "markdown",
   "id": "9e8aa2dc-605e-4730-8bf1-cf7063deb740",
   "metadata": {},
   "source": [
    "<img src=\"posters.png\" width=\"30%\"/>"
   ]
  },
  {
   "cell_type": "markdown",
   "id": "f9e979d5-1c35-4c3c-9641-da7a253341d5",
   "metadata": {},
   "source": [
    "I didn't have access to digital art tools that I could use to do this on my own, so I wondered if I could use ChatGPT to help me. The tough part came with how to prompt ChatGPT most effectively to produce an image in the style my mom wanted. In this blog post, I'll talk about the different approaches I used -- which ones worked well and which ones didn't. "
   ]
  },
  {
   "cell_type": "markdown",
   "id": "62621abc-e5b1-488d-8c3f-dc13ad7e37ec",
   "metadata": {},
   "source": [
    "## Attempt 1"
   ]
  },
  {
   "cell_type": "markdown",
   "id": "9213f11e-de0a-4df9-bdda-a1af71e3a34d",
   "metadata": {},
   "source": [
    "In my first attempt, I first fed ChatGPT the poster examples that I wanted to replicate. I prompted it:\n",
    "> Look at these movie posters. Then, give me a prompt I could give to an AI model to take a photo from a movie and turn it into the style of these posters (just the image, not the text).\n",
    "\n",
    "ChatGPT responded with this image transformation prompt:\n",
    "> “Transform this movie still into a minimalist cinematic poster illustration. Use flat vector-style shapes and bold silhouettes for characters, vehicles, and scenery. Replace detailed textures with smooth gradients and simplified forms. The color palette should be limited to 2–3 complementary tones that create a dramatic atmospheric sky (sunset, stars, or moons depending on the scene). Keep strong contrast between the foreground silhouettes and the background gradient. Remove all text, logos, or titles. The final image should feel iconic, epic, and stylized like a minimalist Star Wars poster.”\n",
    "\n",
    "Interestingly, ChatGPT ended this response with:\n",
    "> Let me know what movie scene you want to try, and I can tailor the palette and composition for maximum effect.\n",
    "\n",
    "Since it was already \"primed\" on this style in this chat, I wondered how well it would perform if I fed the Terms of Endearment poster into this already existing chat. I fed it the original image, and this was the stylized one it gave:"
   ]
  },
  {
   "cell_type": "markdown",
   "id": "d1abf69d-775a-4d52-ba9d-36915c816089",
   "metadata": {},
   "source": [
    "<img src=\"1.png\" width=\"30%\"/>"
   ]
  },
  {
   "cell_type": "markdown",
   "id": "7813f895-2388-457d-bf65-7125a40b3347",
   "metadata": {},
   "source": [
    "Overall, this version was pretty great. The only complaint my mom had was that it removed the back of the mom's head in the original photo."
   ]
  },
  {
   "cell_type": "markdown",
   "id": "bd7c0c9d-691a-49e9-9fef-09f04d78229f",
   "metadata": {},
   "source": [
    "## Attempt 2"
   ]
  },
  {
   "cell_type": "markdown",
   "id": "d91db4cf-9e92-4e60-b18f-6da37c4721a8",
   "metadata": {},
   "source": [
    "In this attempt, I used the prompt that ChatGPT generated previously:\n",
    "> “Transform this movie still into a minimalist cinematic poster illustration. Use flat vector-style shapes and bold silhouettes for characters, vehicles, and scenery. Replace detailed textures with smooth gradients and simplified forms. The color palette should be limited to 2–3 complementary tones that create a dramatic atmospheric sky (sunset, stars, or moons depending on the scene). Keep strong contrast between the foreground silhouettes and the background gradient. Remove all text, logos, or titles. The final image should feel iconic, epic, and stylized like a minimalist Star Wars poster.”\n",
    "\n",
    "However, I gave it the prompt an entirely new chat, meaning it had no knowledge of the original Star Wars poster examples. I tailored the prompt slightly -- removing the last part that said \"Remove all text, logos, or titles. The final image should feel iconic, epic, and stylized like a minimalist Star Wars poster.\"\n",
    "\n",
    "The output was significantly worse -- the grandma in the original photo turned into a man, the silhouette of the trees looked oddly geometric, and the color scheme was flat and too high-contrast. Most of all, it didn't effectively capture the style of the original Star Wars posters."
   ]
  },
  {
   "cell_type": "markdown",
   "id": "fcd5aa0b-c5dc-41b2-aee3-73771c507c9b",
   "metadata": {},
   "source": [
    "<img src=\"2.png\" width=\"30%\"/>"
   ]
  },
  {
   "cell_type": "markdown",
   "id": "5bde3518-b91d-4fe7-82eb-901e475ec77e",
   "metadata": {},
   "source": [
    "I think this goes to show that ChatGPT was able to gain a deeper understanding of this movie poster style when I fed it the original image. Despite its detailed prompt that it provided (\"bold silhouettes,\" \"2-3 complementary tones\"), just having it generate a new poster based on these isntructions alone wasn't enough. "
   ]
  },
  {
   "cell_type": "markdown",
   "id": "7b08dfdb-1ee2-4f98-a577-fb1b511d00d7",
   "metadata": {},
   "source": [
    "## Many attempts later..."
   ]
  },
  {
   "cell_type": "markdown",
   "id": "f543c9be-79e7-4fb5-8a36-d5da0987bd8a",
   "metadata": {},
   "source": [
    "Based on these insights I had (feeding ChatGPT the original image was more effective, but it still missed small details in the image), I went through many iterations with my mom until we got to a result we were satisfied with. This was my final prompt:"
   ]
  },
  {
   "cell_type": "markdown",
   "id": "4588001b-450d-4900-b35f-bd6a7b88fbfa",
   "metadata": {},
   "source": [
    "<img src=\"final.png\" width=\"50%\"/>"
   ]
  },
  {
   "cell_type": "markdown",
   "id": "54a59772-8ae6-4995-a9a7-7e78a2e1beb9",
   "metadata": {},
   "source": [
    "This was the output:"
   ]
  },
  {
   "cell_type": "markdown",
   "id": "0c44312f-658d-4ffa-a112-a0d0bd15598c",
   "metadata": {},
   "source": [
    "<img src=\"3.png\" width=\"30%\"/>"
   ]
  },
  {
   "cell_type": "markdown",
   "id": "3689ded4-12fe-4057-a3ca-eaf0aeae3204",
   "metadata": {},
   "source": [
    "To get to this point, I went through many iterations beforehand through which I was able to get a good understanding of what ChatGPT was struggling with. The biggest issue seemed to be portraying the grandmother figure accurately -- it would often depict her as a man or without her cardigan, which was a detail my mom wanted to preserve. So, I anticipated these errors and explicitly prompted ChatGPT to not make these mistakes. This final output, while not completely perfect, was definitely the best out of all previous versions."
   ]
  }
 ],
 "metadata": {
  "kernelspec": {
   "display_name": "Python 3-12 (COMM4190)",
   "language": "python",
   "name": "python3-12_comm4190"
  },
  "language_info": {
   "codemirror_mode": {
    "name": "ipython",
    "version": 3
   },
   "file_extension": ".py",
   "mimetype": "text/x-python",
   "name": "python",
   "nbconvert_exporter": "python",
   "pygments_lexer": "ipython3",
   "version": "3.12.11"
  }
 },
 "nbformat": 4,
 "nbformat_minor": 5
}
