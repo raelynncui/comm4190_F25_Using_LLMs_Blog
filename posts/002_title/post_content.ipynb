{
 "cells": [
  {
   "cell_type": "raw",
   "id": "419924ee-d695-4207-a6c6-b454c447582b",
   "metadata": {},
   "source": [
    "---\n",
    "title: \"ChatGPT as a Mock Interviewer\"\n",
    "description: \"Using AI to prepare for behavioral and case interviews\" \n",
    "author: \"Raelynn\"\n",
    "date: \"9/5/2025\"\n",
    "categories:\n",
    "  - LLMs\n",
    "  - Professional\n",
    "---"
   ]
  },
  {
   "cell_type": "markdown",
   "id": "431a36d0-b6c9-4a57-9e6b-325287fe5f07",
   "metadata": {},
   "source": [
    "# ChatGPT as a Mock Interviewer"
   ]
  },
  {
   "cell_type": "markdown",
   "id": "7a4740bc-1e0c-4c7b-83bb-93d2eb8be8e7",
   "metadata": {},
   "source": [
    "### Context"
   ]
  },
  {
   "cell_type": "markdown",
   "id": "a8a6bb17-262c-4c07-a72e-ea590c9463a4",
   "metadata": {},
   "source": [
    "##### Over the past few weeks, I've been preparing for upcoming internship interviews! Many people suggest mock interviewing with others, but I feel bad asking someone to listen to me talk for so long and subjecting them to my rambles. Not only that, but I've found that rehearsing answers and practicing \"in my head\" is completely ineffective -- when someone asks me a question in real time, I freeze up and don't know what to say."
   ]
  },
  {
   "cell_type": "markdown",
   "id": "ec7654e4-8867-4548-a2eb-c6cc743c6bbe",
   "metadata": {},
   "source": [
    "##### So, I turned to ChatGPT as a prep partner, using its voice functionality as a coach, mock interviewer, and brutal critic!"
   ]
  },
  {
   "cell_type": "markdown",
   "id": "7e1a0712-fdd3-4a67-a6b3-d283c8d72870",
   "metadata": {},
   "source": [
    "![ChatGPT Voice](chatgpt_voice.png)"
   ]
  }
 ],
 "metadata": {
  "kernelspec": {
   "display_name": "Python 3-12 (COMM4190)",
   "language": "python",
   "name": "python3-12_comm4190"
  },
  "language_info": {
   "codemirror_mode": {
    "name": "ipython",
    "version": 3
   },
   "file_extension": ".py",
   "mimetype": "text/x-python",
   "name": "python",
   "nbconvert_exporter": "python",
   "pygments_lexer": "ipython3",
   "version": "3.12.11"
  }
 },
 "nbformat": 4,
 "nbformat_minor": 5
}
