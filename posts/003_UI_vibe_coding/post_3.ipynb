{
 "cells": [
  {
   "cell_type": "raw",
   "id": "419924ee-d695-4207-a6c6-b454c447582b",
   "metadata": {},
   "source": [
    "---\n",
    "title: \"UI Vibe Coding\"\n",
    "description: \"Comparing UI replication abilities across ChatGPT, Claude, and Lovable\" \n",
    "author: \"Raelynn Cui\"\n",
    "date: \"9/7/2025\"\n",
    "categories:\n",
    "  - Vibe Coding\n",
    "  - ChatGPT\n",
    "  - Claude\n",
    "  - Lovable\n",
    "  - UI/UX\n",
    "---"
   ]
  },
  {
   "cell_type": "markdown",
   "id": "431a36d0-b6c9-4a57-9e6b-325287fe5f07",
   "metadata": {},
   "source": [
    "# UI Vibe Coding"
   ]
  },
  {
   "cell_type": "markdown",
   "id": "7a4740bc-1e0c-4c7b-83bb-93d2eb8be8e7",
   "metadata": {},
   "source": [
    "### Context\n",
    "\n",
    "In the past, I've experimented a bit with vibe coding by having ChatGPT assist me with things like writing a script to automate the downloading of images from HTML, writing a script to parse through a JSON to extract certain fields, and writing a Python script to extract numerical data from a line graph image using edge detection software."
   ]
  },
  {
   "cell_type": "markdown",
   "id": "b585a260-6d78-4761-946b-c6fc64701662",
   "metadata": {},
   "source": [
    "<div style=\"border: 2px solid #f39c12; border-radius: 8px; padding: 12px; background-color: #fff7e6;\">\n",
    "  <em>Vibe coding: an emerging software development approach in which a human developer directs an AI system through high-level, natural language instructions and iterative feedback, while the AI handles the generation, refinement, and debugging of the code..</em>\n",
    "</div>"
   ]
  },
  {
   "cell_type": "markdown",
   "id": "73eb2da2-13e6-4800-b364-195ba877991e",
   "metadata": {},
   "source": [
    "However, I've never used AI models to vibe code UIs! As a lover of UI/UX design, I've historically stuck to Figma to manually prototype my designs. In this blog post, I document my experience using three different AI tools to generate mockups of my Figma designs in HTML/CSS -- Claude, ChatGPT, and Lovable! For this exercise, I'm not prompting these models to create functioning and clickable prototypes -- just the UI. "
   ]
  },
  {
   "cell_type": "markdown",
   "id": "ddf92b36-8bb3-4fb8-98e7-5a46f1fedf79",
   "metadata": {},
   "source": [
    "<img src=\"cover.png\" width=\"100%\"/>"
   ]
  },
  {
   "cell_type": "markdown",
   "id": "83b814d4-5997-46a7-add3-787ef6f7f73e",
   "metadata": {},
   "source": [
    "### The Prompt & Thinking"
   ]
  },
  {
   "cell_type": "markdown",
   "id": "8d33f611-b290-45c9-8b63-f25b37ff525f",
   "metadata": {},
   "source": [
    "<div style=\"display: flex; align-items: flex-start; margin: 20px 0;\">\n",
    "  <!-- First image + caption -->\n",
    "  <figure style=\"margin: 0; flex: 0 0 auto; margin-right: 28px; text-align: center;\">\n",
    "    <img src=\"mockup.png\" alt=\"My Figma mockup\"\n",
    "         style=\"display: block; height: 400px; width: auto; border-radius: 8px;\">\n",
    "    <figcaption style=\"margin-top: 8px; font-size: 14px; color: #555;\">\n",
    "      My Figma mockup\n",
    "    </figcaption>\n",
    "  </figure>\n",
    "\n",
    "  <!-- Second image + caption -->\n",
    "  <figure style=\"margin: 0; flex: 0 0 auto; text-align: center;\">\n",
    "    <img src=\"thinking.png\" alt=\"Lovable's thinking\"\n",
    "         style=\"display: block; height: 400px; width: auto; border-radius: 8px;\">\n",
    "    <figcaption style=\"margin-top: 8px; font-size: 14px; color: #555;\">\n",
    "      Lovable's thinking\n",
    "    </figcaption>\n",
    "  </figure>\n",
    "</div>\n"
   ]
  },
  {
   "cell_type": "markdown",
   "id": "84935e67-6992-4c77-96ee-f0cceacf1350",
   "metadata": {},
   "source": [
    "##### For each of the models, I prompted it to \"replicate this mobile UI using html/css,\" with this image my Figma mockup attached.\n",
    "\n",
    "The models notably differed in how they responded to the prompts:\n",
    "- ChatGPT thought for 9 seconds, with one of its lines of reasoning being: \"I'm planning to create a full HTML/CSS layout with a mobile-friendly design (390x844). It will have top tabs for \"tasks\" and \"calendar\" in pill shapes with navy and tan colors. The bottom bar will feature icons like emoji/SVG. For tasks, I'll create cards with checkboxes, names, due dates, and avatars. We'll use specific color variables like navy blue #2F3A8C and others for consistency in design.\"\n",
    "- Lovable thought for 19 seconds, with an even more extensive line of reasoning (see photo above). I found that this more modular and detailed reasoning produced a significantly better outcome, which I describe in the next section."
   ]
  },
  {
   "cell_type": "markdown",
   "id": "3867893b-10da-44c9-9737-f2a9cbbe46ea",
   "metadata": {},
   "source": [
    "### Outputs"
   ]
  },
  {
   "cell_type": "markdown",
   "id": "5c4e5894-de01-40c9-afc3-093317f69761",
   "metadata": {},
   "source": [
    "##### ChatGPT"
   ]
  },
  {
   "cell_type": "markdown",
   "id": "2f55d54b-53c4-466c-b982-21017befb164",
   "metadata": {},
   "source": [
    "<img src=\"chatgptop.png\" alt=\"ChatGPT's output\" style=\"width:400px; border-radius:8px;\">"
   ]
  },
  {
   "cell_type": "markdown",
   "id": "ce3be5a5-3f16-4334-bffe-9862f46d6ccb",
   "metadata": {},
   "source": [
    "Overall, ChatGPT's output was pretty good. It captured the color scheme relatively well, but not perfectly (some inconsistencies with the horizontal bars). It also maintained the basic layout: tabs at the top, a horizontal navigation bar at the bottom, and horizontal bars with a checkable box and text. I found it interesting that it even replaced the avatar images with emojis that still resembled the people!"
   ]
  },
  {
   "cell_type": "markdown",
   "id": "e82a9b47-a06e-4f26-b261-1bf56423c87c",
   "metadata": {},
   "source": [
    "##### Claude"
   ]
  },
  {
   "cell_type": "markdown",
   "id": "09e0abaa-8917-47ff-8d29-99902e90142a",
   "metadata": {},
   "source": [
    "<img src=\"claudeop.png\" alt=\"Claude's output\" style=\"width:400px; border-radius:8px;\">"
   ]
  },
  {
   "cell_type": "markdown",
   "id": "c6ebbfb5-dfb5-49a7-9e1d-79bdde96dc2c",
   "metadata": {},
   "source": [
    "Claude's output was also decent, but not as great as ChatGPT's, in my opinion. The color scheme was not as accurate, but it did handle the shape of the top \"tasks\" and \"calendar\" tabs better than GPT. However, it added some features that weren't present in the Figma mockup I provided -- gradients behind the avatars and strikethroughs for the completed tasks.  "
   ]
  },
  {
   "cell_type": "markdown",
   "id": "2e7fa5d7-b307-4ad8-8d86-2b30d26d6b64",
   "metadata": {},
   "source": [
    "##### Lovable"
   ]
  },
  {
   "cell_type": "markdown",
   "id": "81d12939-1949-4eba-acfd-d4cde639a59e",
   "metadata": {},
   "source": [
    "<div style=\"display: flex; align-items: flex-start; margin: 20px 0;\">\n",
    "  <!-- First image + caption -->\n",
    "  <figure style=\"margin: 0; flex: 0 0 auto; margin-right: 28px; text-align: center;\">\n",
    "    <img src=\"lovableop.png\" alt=\"Lovable's output\"\n",
    "         style=\"display: block; height: 400px; width: auto; border-radius: 8px;\">\n",
    "  </figure>\n",
    "\n",
    "  <!-- Second image + caption -->\n",
    "  <figure style=\"margin: 0; flex: 0 0 auto; text-align: center;\">\n",
    "    <img src=\"prototype.gif\" alt=\"Lovable's prototype\"\n",
    "         style=\"display: block; height: 400px; width: auto; border-radius: 8px;\">\n",
    "  </figure>\n",
    "</div>"
   ]
  },
  {
   "cell_type": "markdown",
   "id": "edb540ce-0bfd-41e3-b6e5-b9e533a4e003",
   "metadata": {},
   "source": [
    "Lovable's output was underwhelming at first -- the color scheme looks different and the top tab navigation is off as well. \n",
    "\n",
    "However, when you interact with the prototype, it outperforms ChatGPT and Claude by far. Even though I didn't prompt it to include these functionalities, it allows you to check (and uncheck!) tasks, toggle between the tasks and calendar page, and click the \"add task\" button."
   ]
  },
  {
   "cell_type": "markdown",
   "id": "f5503324-e442-404e-ba70-d4f62d880684",
   "metadata": {},
   "source": [
    "### Reflections\n",
    "\n",
    "For UI accuracy (text, colors, layout), I think ChatGPT performed the best. However, for functionality, Lovable was superior, which is reflective of its much longer and more thorough \"thinking\" process. Whereas ChatGPT took 9 seconds to seemingly generate the prototype in one shot, Lovable took 19 seconds, working step by step through each component of the interface. Overall, I think this goes to show the importance of playing around with different models to determine which supports your needs the most! In the future, I think it would be interesting to play around with building a functioning app isntead of one static interface."
   ]
  },
  {
   "cell_type": "code",
   "execution_count": null,
   "id": "502c2bc0-fe76-451a-b948-a7b349de891b",
   "metadata": {},
   "outputs": [],
   "source": []
  }
 ],
 "metadata": {
  "kernelspec": {
   "display_name": "Python 3-12 (COMM4190)",
   "language": "python",
   "name": "python3-12_comm4190"
  },
  "language_info": {
   "codemirror_mode": {
    "name": "ipython",
    "version": 3
   },
   "file_extension": ".py",
   "mimetype": "text/x-python",
   "name": "python",
   "nbconvert_exporter": "python",
   "pygments_lexer": "ipython3",
   "version": "3.12.11"
  }
 },
 "nbformat": 4,
 "nbformat_minor": 5
}
