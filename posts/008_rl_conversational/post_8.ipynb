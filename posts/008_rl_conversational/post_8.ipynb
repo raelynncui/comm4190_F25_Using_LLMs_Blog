{
 "cells": [
  {
   "cell_type": "raw",
   "id": "419924ee-d695-4207-a6c6-b454c447582b",
   "metadata": {},
   "source": [
    "---\n",
    "title: \"Ralph Lauren's New AI Shopping Assistant\"\n",
    "description: \"Testing conversational AI on the Ralph Lauren app\" \n",
    "author: \"Raelynn Cui\"\n",
    "date: \"9/17/2025\"\n",
    "categories:\n",
    "  - LLMs\n",
    "  - Copilot\n",
    "  - Conversational AI\n",
    "---"
   ]
  },
  {
   "cell_type": "markdown",
   "id": "431a36d0-b6c9-4a57-9e6b-325287fe5f07",
   "metadata": {},
   "source": [
    "# Ralph Lauren's New AI Shopping Assistant"
   ]
  },
  {
   "cell_type": "markdown",
   "id": "cf4bc687-1ec5-41cf-b3a4-e110cad06ea2",
   "metadata": {},
   "source": [
    "<img src=\"cover.png\" width=\"80%\"/>"
   ]
  },
  {
   "cell_type": "markdown",
   "id": "7a4740bc-1e0c-4c7b-83bb-93d2eb8be8e7",
   "metadata": {},
   "source": [
    "### Context\n",
    "\n",
    "First, what is conversational AI? Conversational AI is a branch of AI that allows machines to understand, process, and respond to human language in a natural and more conversational way. You’ve likely encountered it in the form of customer support chatbots on websites and virtual assistants like Siri or Alexa.\n",
    "\n",
    "From my perspective as a user, this field of conversational AI has expanded dramatically within the last few years -- especially within industries that you wouldn't expect. For example, smart TV platforms are now experimenting with conversational interfaces to make voice search and content discovery more intuitive. Instead of typing or clicking through menus, you can simply ask, “What’s a good action movie?” and get personalized recommendations. Spotify recently released a feature that allows users to talk to the AI DJ and ask it something like “play something upbeat for a morning run.\" \n",
    "\n",
    "As I'll explore in this blog, conversational AI is now making its way into retail and is becoming a pathway to more immersive and engaging digital shopping experiences. Ralph Lauren recently announced their \"Ask Ralph\" feature in collaboration with Microsoft Azure OpenAI, and in the sections below, I document my experience playing around with this new feature! "
   ]
  },
  {
   "cell_type": "markdown",
   "id": "d35c3834-ff8b-4e00-8c04-ba9b74bfa69e",
   "metadata": {},
   "source": [
    "<img src=\"mockups.png\" width=\"80%\"/>"
   ]
  },
  {
   "cell_type": "markdown",
   "id": "19f89719-5cfa-4ab1-bdc0-28178c6f2ff5",
   "metadata": {},
   "source": [
    "### The cold start interface"
   ]
  },
  {
   "cell_type": "markdown",
   "id": "82f15037-58b9-4b1a-8fb9-014e6ad5302a",
   "metadata": {},
   "source": [
    "When you first open \"Ask Ralph,\" this is what the interface looks like. I think it's pretty great -- it has recommendations for what to search (\"What should I get my mom for her birthday?\" along with style guide and even an \"Inspiration\" button at the bottom. With conversational AI, I think these cold start interfaces are especially important -- they should provide visual/textual clues to the users guiding them toward what they can do. "
   ]
  },
  {
   "cell_type": "markdown",
   "id": "d6bd72c5-f308-4594-86bf-841d706e4350",
   "metadata": {},
   "source": [
    "<img src=\"cold_start.PNG\" width=\"20%\"/>"
   ]
  },
  {
   "cell_type": "markdown",
   "id": "56853d0b-cab3-4ade-ad52-3978a5e82473",
   "metadata": {},
   "source": [
    "### Testing guardrails"
   ]
  },
  {
   "cell_type": "markdown",
   "id": "45c7ef1b-1ad6-4cba-a1b5-59c96cfaa16f",
   "metadata": {},
   "source": [
    "When developing a conversational AI tool, implementing guardrails is extremely important. Users could ask or say anything they want, but Ask Ralph should narrow the scope of valid questions down to ones that are related to the customer shopping experience. Before deploying this feature, I'm guessing that the product/engineering team did extensive testing regarding when the model should respond and when it could not. \n",
    "\n",
    "I was curious what the bounds of these guardrails were, so I tried asking it some \"inappropriate\" questions. "
   ]
  },
  {
   "cell_type": "markdown",
   "id": "2150db01-90ba-4985-b1b9-71871a04e77f",
   "metadata": {},
   "source": [
    "<img src=\"outside_question_invalid.PNG\" width=\"20%\"/>"
   ]
  },
  {
   "cell_type": "markdown",
   "id": "9d328294-9b0a-4215-863a-8bb9d472e974",
   "metadata": {},
   "source": [
    "In general, the model always gave this generic \"I'm sorry, but I can't assist with that further\" response. The only prompt unrelated to clothing where I got a response was when I asked \"who founded ralph lauren.\""
   ]
  },
  {
   "cell_type": "markdown",
   "id": "fcf8220a-f85d-44ec-949f-9e3b5f169c50",
   "metadata": {},
   "source": [
    "<img src=\"outside_clothes.PNG\" width=\"20%\"/>"
   ]
  },
  {
   "cell_type": "markdown",
   "id": "b7a6e6a3-8414-41ec-b2b0-2dc5f35410b6",
   "metadata": {},
   "source": [
    "There was also some nuance to how the questions were phrased -- although it refused to answer \"why is this so expensive,\" it answered \"why is it $500.\" I'm guessing that it could detect the negative sentiment of \"expensive\" and the guardrails kicked in, whereas stating the price is more neutral and objective."
   ]
  },
  {
   "cell_type": "markdown",
   "id": "d0464f92-fdf3-4c8c-a67d-3a53752c7aea",
   "metadata": {},
   "source": [
    "<img src=\"expensive.PNG\" width=\"20%\"/>"
   ]
  },
  {
   "cell_type": "markdown",
   "id": "446bdc90-3059-4251-ab34-80c84bf7e142",
   "metadata": {},
   "source": [
    "### Memory"
   ]
  },
  {
   "cell_type": "markdown",
   "id": "22cf3267-211c-4288-8cea-0321dd31bc1a",
   "metadata": {},
   "source": [
    "Another thing I was curious about is if Ask Ralph had memory. For example, if I first asked it \"show me a pair of pants\" and then followed up in a separate message \"how much is it,\" would the model know that \"it\" is referring to the sweater it just showed me? \n",
    "\n",
    "I tested this by asking it very explicitly: \"what was the last question I asked.\" It returned with the last *valid* question I asked, ignoring the questions that producted an \"I'm sorry, but I can't assist with that further\" response. I thought this was interesting -- possibly showing that the model is not learning based on these \"inappropriate\" queries."
   ]
  },
  {
   "cell_type": "markdown",
   "id": "c7a4acbe-9b8f-4c7c-b993-b4643a5e1f92",
   "metadata": {},
   "source": [
    "<img src=\"memory.PNG\" width=\"20%\"/>"
   ]
  },
  {
   "cell_type": "markdown",
   "id": "a47478d2-79e2-4cd9-9dca-69d95feca582",
   "metadata": {},
   "source": [
    "### Intended use cases"
   ]
  },
  {
   "cell_type": "markdown",
   "id": "17cc391e-0106-4b08-bd69-759be45d59e4",
   "metadata": {},
   "source": [
    "Finally, let's get to the type of queries that Ask Ralph was designed for. Here, I asked it for a random item. It followed up trying to ask for more specific information (women's, what type of clothing, etc.). I repeated that I just wanted a random item after selecting \"women,\" and this was the output:"
   ]
  },
  {
   "cell_type": "markdown",
   "id": "7eaed660-8958-4f53-9d7b-61a33ec4d5b4",
   "metadata": {},
   "source": [
    "<img src=\"random_item.PNG\" width=\"20%\"/>"
   ]
  },
  {
   "cell_type": "markdown",
   "id": "57a419af-a595-40ef-b028-373609dc935a",
   "metadata": {},
   "source": [
    "It returns a clickable entity -- when you click on the image of the product, I expected it to re-direct me to the normal product page (where you can see reviews, price, add to cart, and so on). Instead, it automatically sends a new query for \"show me  details for the [product].\" Looking back on this interaction, this is most likely a strategic move to keep users within the Ask Ralph product, encouraging more follow-up queries and conversations."
   ]
  },
  {
   "cell_type": "markdown",
   "id": "5c9f9b53-bc9c-4c3f-96e5-6f24ebc379de",
   "metadata": {},
   "source": [
    "<img src=\"random_clicked.PNG\" width=\"20%\"/>"
   ]
  },
  {
   "cell_type": "markdown",
   "id": "ad9fde8d-e1df-4a5a-9c29-c921f69317b4",
   "metadata": {},
   "source": [
    "### Overall impressions"
   ]
  },
  {
   "cell_type": "markdown",
   "id": "0f8e7007-96a5-4007-b36e-975667364f5a",
   "metadata": {},
   "source": [
    "Overall, I had a pretty great experience interacting with Ask Ralph. The highlight of my experience comes from a UI perspective -- compared to other conversational AI interfaces (like ChatGPT), I feel like Microsoft Copilot has done a great job incorporating visual cues and more interesting elements on that cold-start interface. Since Ask Ralph was built using Copilot, I can see those UI elements coming through. The experience feels premium, polished, and immersive!"
   ]
  },
  {
   "cell_type": "code",
   "execution_count": null,
   "id": "b84c9624-682b-4f77-9214-ee9dbbfbb257",
   "metadata": {},
   "outputs": [],
   "source": []
  }
 ],
 "metadata": {
  "kernelspec": {
   "display_name": "Python 3-12 (COMM4190)",
   "language": "python",
   "name": "python3-12_comm4190"
  },
  "language_info": {
   "codemirror_mode": {
    "name": "ipython",
    "version": 3
   },
   "file_extension": ".py",
   "mimetype": "text/x-python",
   "name": "python",
   "nbconvert_exporter": "python",
   "pygments_lexer": "ipython3",
   "version": "3.12.11"
  }
 },
 "nbformat": 4,
 "nbformat_minor": 5
}
