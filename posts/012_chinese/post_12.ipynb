{
 "cells": [
  {
   "cell_type": "raw",
   "id": "c6a915dd-8ec2-4708-97dc-a01401a935d3",
   "metadata": {},
   "source": [
    "---\n",
    "title: \"LLMs and Cultural Nuance\"\n",
    "description: \"Will an LLM pick up on the attitude of respect in Chinese?\" \n",
    "author: \"Raelynn Cui\"\n",
    "date: \"9/29/2025\"\n",
    "categories:\n",
    "  - LLMs\n",
    "  - ChatGPT\n",
    "  - Claude\n",
    "  - Gemini\n",
    "---"
   ]
  },
  {
   "cell_type": "markdown",
   "id": "255881d7-21f1-4b33-8705-351d5f10f044",
   "metadata": {},
   "source": [
    "# LLMs and Cultural Nuance"
   ]
  },
  {
   "cell_type": "markdown",
   "id": "6fc6b940-e3fc-4817-8ad2-4b57dc325bbb",
   "metadata": {},
   "source": [
    "<img src=\"cover.png\" width=\"80%\"/>"
   ]
  },
  {
   "cell_type": "markdown",
   "id": "7f9677e5-1ad3-4e7a-abd7-7c9dfcdb69ce",
   "metadata": {},
   "source": [
    "### Context\n",
    "When learning Chinese, I've found ChatGPT to be extremely helpful (as opposed to traditional methods like Google Translate), since the nature of vector embedding allows these models to pick up on and reflect the broader context that I'm speaking within. \n",
    "\n",
    "For example, when speaking to elders, the polite thing to do is to use 您 (nín) instead of the casual 你 (nǐ). It’s a small detail, but it says a lot about respect, tone, and the relationship between speaker and listener. It’s one of those things that a machine translation system could easily miss if it’s only focused on what the words mean rather than how the words should be used. In this blog, I put that this specific example to the test to assess how good LLMs are at picking up cultural nuances, not just the literal meaning of words."
   ]
  },
  {
   "cell_type": "markdown",
   "id": "b3302415-a979-4e7b-a4e2-ac2226772e42",
   "metadata": {},
   "source": [
    "### Google Translate\n",
    "Google Translate served as my baseline for the experiment -- it's the tool that I had grown up using for learning a language. I asked Google Translate to turn the phrase \"Hi grandma! How are you doing today?” into Chinese.\n",
    "\n",
    "It didn’t catch the nuance and used 你 instead of 您:"
   ]
  },
  {
   "cell_type": "markdown",
   "id": "d13f3f1a-1b3a-4a07-81c6-8da1cc362915",
   "metadata": {},
   "source": [
    "<img src=\"google_translate.png\" width=\"80%\"/>"
   ]
  },
  {
   "cell_type": "markdown",
   "id": "5c509f7d-12f4-485e-a84e-64e8ab69be9b",
   "metadata": {},
   "source": [
    "### ChatGPT 5\n",
    "\n",
    "Next, I tried OpenAI's GPT-5 model. After repeating the same prompt 3 times, it correctly used \"您\" all times. The response format was relatively the same all three times -- just the translation with the correct grammar and no further explanation."
   ]
  },
  {
   "cell_type": "markdown",
   "id": "d3632b96-64a2-4ef0-9a06-b8630c6701a6",
   "metadata": {},
   "source": [
    "<img src=\"gpt.png\" width=\"80%\"/>"
   ]
  },
  {
   "cell_type": "markdown",
   "id": "313d8b19-e164-4ab3-9803-0a8e4e49f123",
   "metadata": {},
   "source": [
    "### Gemini 2.5 Flash\n",
    "\n",
    "Next up was Google's Gemini 2.5 Flash model. Like ChatGPT 5, it also correctly used \"您\" all three times I tested the prompt. Not only did it nail down those nuances, but it gave multiple translations and even noted on the second and third iteration that \"您 (nín): This is the polite form of \"you\" and is appropriate when speaking to elders like a grandmother.\"\n",
    "\n",
    "In the first response (shown below), it even mentions that it's giving multiple options \"depending on the nuance you want.\" Across all three options, \"您\" is correctly used instead of \"你.\""
   ]
  },
  {
   "cell_type": "markdown",
   "id": "ab644d27-9c2d-45fd-bce7-b16fb8f8791a",
   "metadata": {},
   "source": [
    "<img src=\"gemini.png\" width=\"80%\"/>"
   ]
  },
  {
   "cell_type": "markdown",
   "id": "86e72a94-e61c-477f-9968-a25e89486905",
   "metadata": {},
   "source": [
    "### Claude 3.5\n",
    "\n",
    "Finally, I tested Anthropic's Claude 3.5 model. Despite having it generate a new response three times, it used the incorrect character each time -- “你” instead of “您.\""
   ]
  },
  {
   "cell_type": "markdown",
   "id": "d0dfe0ab-2be3-4fa8-bc89-7101ab629b07",
   "metadata": {},
   "source": [
    "<img src=\"claude.png\" width=\"80%\"/>"
   ]
  },
  {
   "cell_type": "markdown",
   "id": "5bef4839-c430-4df0-8ef6-143a1565c394",
   "metadata": {},
   "source": [
    "### Reflection\n",
    "\n",
    "With Claude as the exception, I was satisfied that ChatGPT and Gemini were able to pick up on this cultural nuance by just indicating in the prompt that I was talking to an elderly figure. Not only did these models use the specific character “您,\" but they also adjusted the wording for the sentences as a whole to be more appropriate for addressing an older person -- I'm almost sure that if I said I was greeting a friend, the wording would be different and more casual. This ability to pick up on contextual nuances is why I've found LLMs to be extremely helpful in learning new languages, since the translations more faithfully capture my intent. \n",
    "\n",
    "With these LLMs outperforming older tools like Google Translate, I'm interested to see if these models will become embedded in these more traditional translation tools in the near future!"
   ]
  },
  {
   "cell_type": "code",
   "execution_count": null,
   "id": "ee40a470-8b2a-4d20-9d2a-a5b68467fe9a",
   "metadata": {},
   "outputs": [],
   "source": []
  }
 ],
 "metadata": {
  "kernelspec": {
   "display_name": "Python 3-12 (COMM4190)",
   "language": "python",
   "name": "python3-12_comm4190"
  },
  "language_info": {
   "codemirror_mode": {
    "name": "ipython",
    "version": 3
   },
   "file_extension": ".py",
   "mimetype": "text/x-python",
   "name": "python",
   "nbconvert_exporter": "python",
   "pygments_lexer": "ipython3",
   "version": "3.12.11"
  }
 },
 "nbformat": 4,
 "nbformat_minor": 5
}
