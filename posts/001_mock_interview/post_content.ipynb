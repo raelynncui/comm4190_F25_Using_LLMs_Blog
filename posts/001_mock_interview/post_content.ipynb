{
 "cells": [
  {
   "cell_type": "raw",
   "id": "419924ee-d695-4207-a6c6-b454c447582b",
   "metadata": {},
   "source": [
    "---\n",
    "title: \"ChatGPT as a Mock Interviewer\"\n",
    "description: \"Using AI to prepare for behavioral interviews\" \n",
    "author: \"Raelynn Cui\"\n",
    "date: \"9/5/2025\"\n",
    "categories:\n",
    "  - LLMs\n",
    "  - ChatGPT\n",
    "  - Professional\n",
    "---"
   ]
  },
  {
   "cell_type": "markdown",
   "id": "431a36d0-b6c9-4a57-9e6b-325287fe5f07",
   "metadata": {},
   "source": [
    "# ChatGPT as a Mock Interviewer"
   ]
  },
  {
   "cell_type": "markdown",
   "id": "7a4740bc-1e0c-4c7b-83bb-93d2eb8be8e7",
   "metadata": {},
   "source": [
    "### Context\n",
    "\n",
    "Over the past few weeks, I've been preparing for upcoming internship interviews! Many people suggest mock interviewing with others, but I feel bad asking someone to listen to me talk for so long and subjecting them to my rambles. Not only that, but I've found that rehearsing answers and practicing \"in my head\" is completely ineffective -- when someone asks me a question in real time, I freeze up and don't know what to say.\n",
    "\n",
    "So, I turned to ChatGPT as a prep partner, using it as a coach, mock interviewer, and critic!"
   ]
  },
  {
   "cell_type": "markdown",
   "id": "ddf92b36-8bb3-4fb8-98e7-5a46f1fedf79",
   "metadata": {},
   "source": [
    "![ChatGPT voice feature](chatgpt_voice.png)"
   ]
  },
  {
   "cell_type": "markdown",
   "id": "75b0a6fa-903b-43f6-a882-ad3073c8ee2e",
   "metadata": {},
   "source": [
    "##### I used ChatGPT across all areas of interview preparation: coming up with answers, verbally delivering the answers, and receiving feedback. This blog outlines how LLMs assisted me across all these stages!"
   ]
  },
  {
   "cell_type": "markdown",
   "id": "83b814d4-5997-46a7-add3-787ef6f7f73e",
   "metadata": {},
   "source": [
    "### Stage 1: Answers\n",
    "\n",
    "To optimize the feedback that ChatGPT gave me on behavioral questions (\"Tell me about a time when you led a team,\" \"Tell me about a time when you failed\"), I needed to provide it with extensive context on my previous experiences. To do this, I uploaded two files to my project folder: 1) my resume and 2) a longer, more narrative-driven document, where I keep a running log of the details and lessons I've learned from my previous experiences. \n",
    "\n",
    "By giving ChatGPT this context, I was even able to ask it to \"read between the lines\" my experiences to extract core themes that could be applied to any behavioral question. In fact, this was the most useful aspect of using an LLM to prepare for behavioral questions -- with the right prompting, it could even point out patterns in my experiences that I hadn’t noticed before!"
   ]
  },
  {
   "cell_type": "markdown",
   "id": "f56b9418-b58e-49e6-b78e-98e292a0aa6f",
   "metadata": {},
   "source": [
    "![Contextual documents given to ChatGPT](supporting_docs.png)"
   ]
  },
  {
   "cell_type": "markdown",
   "id": "557cd374-a5ef-404a-a64f-1b906efa09ac",
   "metadata": {},
   "source": [
    "### Stage 2: Verbal Delivery\n",
    "\n",
    "To practice verbally delivering my answers, I made use of ChatGPT's voice feature. I provided it with a bank of questions and then prompted it to act like an interviewer and choose one at random. In this stage, it wasn't much about what ChatGPT could say to me -- it was most useful in creating a space to simulate the surprise of getting a question at random and having to answer it on the spot. "
   ]
  },
  {
   "cell_type": "markdown",
   "id": "0b6ab8a7-81db-4930-be83-d0c417c6bff5",
   "metadata": {},
   "source": [
    "### Stage 3: Feedback\n",
    "\n",
    "Previous versions of ChatGPT (GPT-4o) have been accused of being too sycophantic -- being overly flattering and agreeable to the user. While this attribute has been claimed to be addressed in the GPT-5 update, which is what I was using, I still always made sure to prompt the model to be \"brutally honest.\" Doing so forced the LLM to give more critical feedback on my response, which is where the real improvement in my responses was made! Additionally, prompting ChatGPT to \"act as a product director\" and \"apply best frameworks and relevant practices\" (since I was interviewing for product management roles) produced extremely good results. "
   ]
  },
  {
   "cell_type": "markdown",
   "id": "d9289f2c-0028-471b-a6c7-da75495a742f",
   "metadata": {},
   "source": [
    "![](interview.png)"
   ]
  },
  {
   "cell_type": "markdown",
   "id": "f5503324-e442-404e-ba70-d4f62d880684",
   "metadata": {},
   "source": [
    "### Reflections\n",
    "\n",
    "Utilizing ChatGPT was an incredibly valuable part of my interview preparation. Psychologically, it was great to have a low-stakes and always readily available \"interviewer\" -- when walking in between classes, I could simply pull out my phone and do a quick mock question. This experience has shown me the importance of 1) providing an LLM with the correct context and 2) crafting the correct prompts for my specific use case. If I hadn't provided ChatGPT with the extensive accounts of my previous experiences (many of which I forget or can't recall the details of off the top of my head), it would not have been able to provide as nuanced suggestions and revisions. Additionally, if I had not prompted it to be brutally honest, it may have only provided vapid and flattering feedback (which makes me feel good in the moment, but doesn't help with improvement).\n",
    "\n",
    "As I'm writing this, I actually just completed two interviews that I was using these methods with ChatGPT to prepare me for! Upon reflection, there was a sense of randomness and interviewer-dependent context that I couldn't have prepared for with an LLM. For example, many questions were not framed in a way where I could immediately jump into a STAR framework response or a product design framework response. In this sense, ChatGPT turned out to be most helpful for extracting core themes from my experiences and being able to communicate these concisely with phrases that I could weave throughout my interview conversations. "
   ]
  }
 ],
 "metadata": {
  "kernelspec": {
   "display_name": "Python 3-12 (COMM4190)",
   "language": "python",
   "name": "python3-12_comm4190"
  },
  "language_info": {
   "codemirror_mode": {
    "name": "ipython",
    "version": 3
   },
   "file_extension": ".py",
   "mimetype": "text/x-python",
   "name": "python",
   "nbconvert_exporter": "python",
   "pygments_lexer": "ipython3",
   "version": "3.12.11"
  }
 },
 "nbformat": 4,
 "nbformat_minor": 5
}
