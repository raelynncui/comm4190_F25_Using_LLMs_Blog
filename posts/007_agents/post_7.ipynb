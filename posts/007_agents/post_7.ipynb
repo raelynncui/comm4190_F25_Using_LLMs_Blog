{
 "cells": [
  {
   "cell_type": "raw",
   "id": "419924ee-d695-4207-a6c6-b454c447582b",
   "metadata": {},
   "source": [
    "---\n",
    "title: \"Creating My Own AI Agent\"\n",
    "description: \"Exploring agentic AI using Make\" \n",
    "author: \"Raelynn Cui\"\n",
    "date: \"9/15/2025\"\n",
    "categories:\n",
    "  - Agentic AI\n",
    "---"
   ]
  },
  {
   "cell_type": "markdown",
   "id": "431a36d0-b6c9-4a57-9e6b-325287fe5f07",
   "metadata": {},
   "source": [
    "# Creating My Own AI Agent"
   ]
  },
  {
   "cell_type": "markdown",
   "id": "cf4bc687-1ec5-41cf-b3a4-e110cad06ea2",
   "metadata": {},
   "source": [
    "<img src=\"cover.png\" width=\"100%\"/>"
   ]
  },
  {
   "cell_type": "markdown",
   "id": "7a4740bc-1e0c-4c7b-83bb-93d2eb8be8e7",
   "metadata": {},
   "source": [
    "### Context\n",
    "\n",
    "Recently, I’ve been curious about agentic AI -- especially after seeing how companies like OpenAI and Salesforce are integrating these capabilities into their products. The whole idea felt a bit overwhelming at first, but I’ve learned that the best way for me to make sense of and get familiar with these technical concepts is just to dive in and play around with them.\n",
    "\n",
    "In this blog post, I document my experience creating my own (very basic and simple) AI agent using Make, a site that allows you to visually create, build and automate workflows!"
   ]
  },
  {
   "cell_type": "markdown",
   "id": "d35c3834-ff8b-4e00-8c04-ba9b74bfa69e",
   "metadata": {},
   "source": [
    "<img src=\"make.png\" width=\"80%\"/>"
   ]
  },
  {
   "cell_type": "markdown",
   "id": "f1f8e66e-5025-49ed-89a5-58af0f0b4842",
   "metadata": {},
   "source": [
    "### What is agentic AI?"
   ]
  },
  {
   "cell_type": "markdown",
   "id": "ce3be5a5-3f16-4334-bffe-9862f46d6ccb",
   "metadata": {},
   "source": [
    "Agentic AI is AI that is *proactive* -- it has agency to perform tasks by planning, acting, and sometimes proactively deciding how to reach a goal across multiple steps or tools. Generative AI, on the other hand, is more *reactive* -- it only responds to prompts given by the user. "
   ]
  },
  {
   "cell_type": "markdown",
   "id": "edb540ce-0bfd-41e3-b6e5-b9e533a4e003",
   "metadata": {},
   "source": [
    "Putting things together in Make"
   ]
  },
  {
   "cell_type": "markdown",
   "id": "62352349-e340-4dc2-aba5-6fea812e213e",
   "metadata": {},
   "source": [
    "My experiment was simple and straightforward -- I wanted to pull in events from my Google Calendar, run them through AI to get notes on how I should prepare for these events, and save everything neatly into a Google Sheet.\n",
    "\n",
    "The workflow was as follows:\n",
    "- Google Calendar = fetches my events\n",
    "- Make AI Toolkit = asks “what should I do to prepare for each event?”\n",
    "- Google Sheets = stores the answers\n",
    "\n",
    "Make makes this process simple and visually intuitive to understand. Each circle is a module, which can draw from a wide range of apps/formats/platforms like Google Drive, JSON, OpenAI, and so on. When you add a module, you may have to give permissions (such as permission for Make to access my Google Calendar) or enter API keys (such as if you were using the OpenAI module). Modules can then be linked together to form a flow!"
   ]
  },
  {
   "cell_type": "markdown",
   "id": "e5ff1afc-6842-423d-b0d3-71cc86fadabc",
   "metadata": {},
   "source": [
    "<img src=\"module.png\" width=\"70%\"/>"
   ]
  },
  {
   "cell_type": "markdown",
   "id": "5c25f2ef-1cb6-48af-93a0-44308254d304",
   "metadata": {},
   "source": [
    "While the layout was extremely intuitive, I still ran into many issues throughout this process. For example, in one of my earlier iterations, I didn't have the Google Sheets module and was attempting to get the output directly from the Make AI Toolkit.\n",
    "\n",
    "However, The way Make handles data means every calendar event comes in as a separate “bundle.” This meant I wasn’t getting one nice weekly checklist; rather, I was getting ten scattered AI outputs."
   ]
  },
  {
   "cell_type": "markdown",
   "id": "6f59647c-81f4-4f84-b331-e4cc58ab43f0",
   "metadata": {},
   "source": [
    "<img src=\"bundle.png\" width=\"40%\"/>"
   ]
  },
  {
   "cell_type": "markdown",
   "id": "db6788d3-dc58-4e39-adc4-ce0b454ad435",
   "metadata": {},
   "source": [
    "So, I consulted ChatGPT for help. I fed it an image of my workflow and had it suggest solutions for me to implement. It suggested either 1) using an aggregator component after the Google Calendar to collect all event details into a single text block or 2) adding another AI component to summarize the results into one output. I wasn't able to get these recommendations to work, so I instead suggested adding a Google Sheet and asked ChatGPT where to go from there. From there, it was able to successfully instruct me how to configure this component to add each checklist as a row in a Google Sheet that lives in my personal Google Drive!  \n",
    "\n",
    "I thought this part was pretty cool -- I was using AI to help me build an AI agent."
   ]
  },
  {
   "cell_type": "markdown",
   "id": "0248bfbc-8a0b-4062-a8a1-c86330288e51",
   "metadata": {},
   "source": [
    "<img src=\"output.png\" width=\"70%\"/>"
   ]
  },
  {
   "cell_type": "markdown",
   "id": "bea6f36b-f677-4a3a-b768-a35be2bc86da",
   "metadata": {},
   "source": [
    "### The AI responses"
   ]
  },
  {
   "cell_type": "markdown",
   "id": "7bd0cb99-fdd3-41d8-be8d-b7a91b8c1241",
   "metadata": {},
   "source": [
    "Overall, I thought the checklists that the AI generated were pretty good! It only had the title, time, and location of my Google Calendar events to work off of. This was the response it generated for my friend's housewarming -- it was able to identify that \"Elli\" in the title was refering to someone called Elli and also understood the conventions around housewarmings (buying a gift, a possible potluck, transportation, etc.). "
   ]
  },
  {
   "cell_type": "markdown",
   "id": "90eba24b-22b1-439b-a126-c7662f847838",
   "metadata": {},
   "source": [
    "<img src=\"housewarming.png\" width=\"70%\"/>"
   ]
  },
  {
   "cell_type": "markdown",
   "id": "f9ca895c-b28a-4ab2-97b8-5ceca7bbbd2a",
   "metadata": {},
   "source": [
    "### Next steps"
   ]
  },
  {
   "cell_type": "markdown",
   "id": "80b8163e-0ac5-48a0-89a5-7301bd2199e2",
   "metadata": {},
   "source": [
    "This agent I created was extremely simple, so making it more complex could be a fun next project. I'm thinking about adding an AI module that parses the events, identifies ones that may require additional documents from Google Drive (notes, slideshows, etc.) or even makes them if necessary, and adds them to the spreadsheet as well!"
   ]
  },
  {
   "cell_type": "code",
   "execution_count": null,
   "id": "efd8eab7-3730-43e9-b4ab-f1f095979ba8",
   "metadata": {},
   "outputs": [],
   "source": []
  }
 ],
 "metadata": {
  "kernelspec": {
   "display_name": "Python 3-12 (COMM4190)",
   "language": "python",
   "name": "python3-12_comm4190"
  },
  "language_info": {
   "codemirror_mode": {
    "name": "ipython",
    "version": 3
   },
   "file_extension": ".py",
   "mimetype": "text/x-python",
   "name": "python",
   "nbconvert_exporter": "python",
   "pygments_lexer": "ipython3",
   "version": "3.12.11"
  }
 },
 "nbformat": 4,
 "nbformat_minor": 5
}
