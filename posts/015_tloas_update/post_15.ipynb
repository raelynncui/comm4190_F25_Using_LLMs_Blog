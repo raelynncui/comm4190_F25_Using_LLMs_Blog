{
 "cells": [
  {
   "cell_type": "raw",
   "id": "0089abec-0963-41d9-9f31-a08392c25cd5",
   "metadata": {},
   "source": [
    "---\n",
    "title: \"Part 2: Can an LLM Predict Taylor Swift’s Next Album?\"\n",
    "description: \"Asking ChatGPT to predict song lyrics and styles\" \n",
    "author: \"Raelynn Cui\"\n",
    "date: \"10/14/2025\"\n",
    "categories:\n",
    "  - LLMs\n",
    "  - ChatGPT\n",
    "---"
   ]
  },
  {
   "cell_type": "markdown",
   "id": "92f4e880-b2b4-499d-86ab-d6428ba28feb",
   "metadata": {},
   "source": [
    "# Part 2: Can an LLM Predict Taylor Swift’s Next Album?"
   ]
  },
  {
   "cell_type": "markdown",
   "id": "aa3847b3-defb-4a89-bd66-c0dd01ecb868",
   "metadata": {},
   "source": [
    "<img src=\"cover.jpg\" width=\"80%\"/>"
   ]
  },
  {
   "cell_type": "markdown",
   "id": "cbf4456e-8270-42f1-86fa-0ef26c926a6f",
   "metadata": {},
   "source": [
    "In a previous blog post, I used ChatGPT to predict what Taylor Swift's album, *The Life of a Showgirl*, might sound like. The album hadn't been released yet when I made that post, but it is now! In this blog post, I'll compare some of ChatGPT's predictions to what the songs actually sound like."
   ]
  },
  {
   "cell_type": "markdown",
   "id": "c8586aee-0525-40ec-9797-481a94fd28b9",
   "metadata": {},
   "source": [
    "## The Fate of Ophelia\n",
    "\n",
    "ChatGPT's prediction:\n",
    "> Likely Shakespearean/literary allusion (Swift loves them). Expect themes of drowning in expectation or beauty, glamorous tragedy, but with a twist of empowerment — reframing Ophelia as a performer who chooses her stage.  \n",
    "\n",
    "> - “drowned in the spotlight”  \n",
    "> - “petals on the water / torn apart by whispers”  \n",
    "> - “a tragedy in glitter heels”  \n",
    "> - Likely to use water, flowers, mirrors, stage curtains\n",
    "\n",
    "In reality, the lyrics of this song don't really encapsulate empowerment or tragedy. \"Ophelia\" in this song doesn't really save herself -- there are lines in the song that say \"I sat alone in my tower... You dug me out of my grave and saved my heart from the fate of Ophelia.\" However, ChatGPT got some parts similar -- it predicted the quote \"drowned in the spotlight,\" and in the song, there's a line that says \"no longer drowning and deceived.\" While the meaning behind the quote doesn't seem to match, but it still predicted the \"drowning\" part correctly."
   ]
  },
  {
   "cell_type": "markdown",
   "id": "3eeedf97-d7f5-4453-9512-07733f6366e4",
   "metadata": {},
   "source": [
    "<img src=\"photo1.jpg\" width=\"80%\"/>"
   ]
  },
  {
   "cell_type": "markdown",
   "id": "bf361b46-0fa9-4439-bff0-af667ae7706f",
   "metadata": {},
   "source": [
    "## Wi\\$h Li\\$t \n",
    "\n",
    "ChatGPT's prediction:\n",
    "> The stylized title suggests a fun, upbeat bop. Likely materialistic and cheeky — a catalog of desires that doubles as commentary on fame, consumption, and yearning. Think *Blank Space* meets *Bejeweled*.  \n",
    "\n",
    "> - “tick it off, diamonds first”  \n",
    "> - “more than money could buy, but still on the list”  \n",
    "> - “wishing never cost a cent”\n",
    "> - Expect consumer culture metaphors, shopping lists, playful greed\n",
    "\n",
    "For this song, I think ChatGPT was somewhat off the mark. Taylor Swift incorporates these themes of materialism into the song, but through the perspective of other people wanting those things. For example, she sings \"They want that yacht life, under chopper blades; They want those bright lights and Balenci' shades.\" However, the twist comes when she sings \"And they should have what they want... I just want you,\" essentially leaning away from those external themes of consumption and wealth. "
   ]
  },
  {
   "cell_type": "markdown",
   "id": "b14025ef-0318-41ec-baa3-db830404421f",
   "metadata": {},
   "source": [
    "<img src=\"photo2.png\" width=\"80%\"/>"
   ]
  },
  {
   "cell_type": "markdown",
   "id": "ca49fad8-d72f-4149-8479-fe4bf89c571c",
   "metadata": {},
   "source": [
    "## CANCELLED!\n",
    "\n",
    "ChatGPT's prediction:\n",
    "> Almost certainly ironic. Could tackle cancel culture, reputation, and public scrutiny — but delivered with sass and humor, not heaviness. Think *Shake It Off*’s cousin.  \n",
    "\n",
    "> - “you can’t erase me with a headline”  \n",
    "> - “the louder they boo, the brighter I shine”  \n",
    "> - “tickets still sold out tonight”  \n",
    "> - Sarcastic media/online culture language, capital letters, irony\n",
    "\n",
    "In my opinion, this song doesn't really read as ironic or sarcastic. The chorus of the song goes \"Good thing I like my friends cancelled\" in a more cunning and viscous tone, not really with \"sass\" or \"humor\" as ChatGPT predicted. It especially doesn't read as \"Shake It Off's cousin\" -- this song incorporates deeper and not as playful phrases like \"my infamy loves company\" and \"they've broken you like they've broken me.\" "
   ]
  },
  {
   "cell_type": "markdown",
   "id": "189f7664-878d-4532-a355-6a57828f40cf",
   "metadata": {},
   "source": [
    "### Reflection\n",
    "Overall, I don't think ChatGPT did horrible based on the information it was given -- many of the songs in this album even surprised me with how they were written and sounded, and the predictions it generated didn't seem too outlandish. However, after listening to the songs and reading the lyrics myself, it wasn't extremely accurate. It predicted the tones of songs wrong (like \"CANCELLED!\") as well as the main storylines (\"Fate of Ophelia\" was about someone being saved from this tragic fate, whereas ChatGPT predicted the song would be about self-empowerment and saving oneself from that fate).  \n",
    "\n",
    "In the future, I wonder if the predictions would be more accurate if I fed the LLM a more diverse range of content, such as images of the album cover and photoshoots that were posted before the release. "
   ]
  },
  {
   "cell_type": "code",
   "execution_count": null,
   "id": "be995f4c-e99b-435b-9761-80b52c45b982",
   "metadata": {},
   "outputs": [],
   "source": []
  }
 ],
 "metadata": {
  "kernelspec": {
   "display_name": "Python 3-12 (COMM4190)",
   "language": "python",
   "name": "python3-12_comm4190"
  },
  "language_info": {
   "codemirror_mode": {
    "name": "ipython",
    "version": 3
   },
   "file_extension": ".py",
   "mimetype": "text/x-python",
   "name": "python",
   "nbconvert_exporter": "python",
   "pygments_lexer": "ipython3",
   "version": "3.12.11"
  }
 },
 "nbformat": 4,
 "nbformat_minor": 5
}
