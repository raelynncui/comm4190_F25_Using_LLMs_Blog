{
 "cells": [
  {
   "cell_type": "raw",
   "id": "8f8ac59a-dc42-48a4-8994-243ea8bb30d2",
   "metadata": {},
   "source": [
    "---\n",
    "title: \"LLMs As Digital Utopias\"\n",
    "description: \"How Dyer's \"utopian sensibilities\" show up in AI\" \n",
    "author: \"Raelynn Cui\"\n",
    "date: \"9/20/2025\"\n",
    "categories:\n",
    "  - LLMs\n",
    "  - Conversational AI\n",
    "---"
   ]
  },
  {
   "cell_type": "markdown",
   "id": "6621505f-b781-450f-bc4d-5ff81845f22e",
   "metadata": {},
   "source": [
    "# LLMs As Digital Utopias"
   ]
  },
  {
   "cell_type": "markdown",
   "id": "3dc3ab79-57c2-41f1-a1ea-50b1dc3e4a3a",
   "metadata": {},
   "source": [
    "<img src=\"cover.png\" width=\"80%\"/>"
   ]
  },
  {
   "cell_type": "markdown",
   "id": "b20df275-5740-486f-8473-7928ec877239",
   "metadata": {},
   "source": [
    "### Context\n",
    "\n",
    "In my Intro to Cinema Studies class (CIMS 1001), we read Richard Dyer’s 'Entertainment and Utopia.' His core argument was that movies give us “tastes” of utopia through the way they look, sound, and feel. They can’t actually solve the problems of the world, but they can make audiences feel what a better world might be like, through portrayals of abundance, energy, intensity, transparency, and community.\n",
    "\n",
    "His essay was focused on cinema and entertainment (how bright lighting, dance numbers, or emotional transparency between characters create these fleeting utopian moments), but I feel like these same sensibilities can also show up in ways outside of film, such as LLMs. In this blog post, I explore how Dyer’s “utopian sensibilities” (the ways in which utopian feelings emerge in film) manifest themselves in LLMs."
   ]
  },
  {
   "cell_type": "markdown",
   "id": "a8b29451-1381-4bfd-9fb9-646b98dfc85f",
   "metadata": {},
   "source": [
    "### Dyer’s Utopian Sensibilities\n",
    "\n",
    "Dyer outlines five main sensibilities that films often convey:\n",
    "1. Abundance: a world of plenty, where nothing feels scarce.\n",
    "2. Energy: vitality and forward momentum, often through movement or rhythm.\n",
    "3. Intensity: heightened feelings, colors, and emotions.\n",
    "4. Transparency: honesty, clarity, or directness in human expression.\n",
    "5. Community: the joy of being part of something bigger than yourself.\n",
    "\n",
    "Each utopian sensibility addresses some sort of social tension/inadequacy:\n",
    "1. Abundance: scarcity, poverty\n",
    "2. Energy: exhaustion, work, labor\n",
    "3. Intensity: dreariness, monotony, predictability\n",
    "4. Transparency: manipulation and control from interpersonal relationships\n",
    "5. Community: fragmentation with jobs, rehousing, etc."
   ]
  },
  {
   "cell_type": "markdown",
   "id": "9f49bc37-e3da-4a27-884a-d584957beb91",
   "metadata": {},
   "source": [
    "<img src=\"utopia.png\" width=\"50%\"/>"
   ]
  },
  {
   "cell_type": "markdown",
   "id": "542a3d3a-fc75-4e3d-993f-18a8aedf18e2",
   "metadata": {},
   "source": [
    "### Connecting Them to LLMs\n",
    "\n",
    "What happens if we look at LLMs through Dyer’s lens? Surprisingly, I think they carry many of the same utopian feelings, just translated into our digital ecosystem.\n",
    "\n",
    "1. Abundance: When you open up ChatGPT or another LLM, it feels like an infinite library. You can ask for whatever you want and always prompt the LLM to give you more more. Similar to the abudance of things in films, LLMs create a similar sensation.\n",
    "\n",
    "2. Energy: Just like how films use dance and rhythm, you could say that LLMs show their \"energy\" through speed. The instant back and forth of conversational AI feels alive and instantaneous. Instead of waiting days or hours for an answer (the way you would with research or email), you can get responses in seconds, which gives the interaction energy.\n",
    "\n",
    "3. Intensity: I think this connects to how LLMs can generate writing that feels emotionally charged, if prompted correctly. This is a kind of digital intensity.\n",
    "\n",
    "4. Transparency: Part of the appeal of LLMs is how simple the interface is, as you can just type what you want in natural language. There are no complicated commands or technical calls to memorize, which creates a sense of transparency with the system -- it seems to understand you directly, similar to how characters in films express their emotions openly without barriers.\n",
    "\n",
    "5. Community: LLMs also represent a collective voice, to some extent. Since they’re trained on human writing, when you interact with one, it feels as if you're interacting with broader community of knowledge.\n"
   ]
  },
  {
   "cell_type": "markdown",
   "id": "d437f9ad-c592-4cff-ae78-ac3a0b2e9123",
   "metadata": {},
   "source": [
    "### Reflections\n",
    "\n",
    "Dyer never imagined his theories being applied to AI systems, but I think the connection is interesting to think about. The same things that make musicals and fimls emotionally powerful (abundance, energy, intensity, transparency, and community) is also what makes LLMs feel captivating to us. It's also interesting that in both cases, it’s somewhat of an illusion -- just like how films don’t actually solve inequality, LLMs don’t really give us infinite knowledge or genuine community."
   ]
  }
 ],
 "metadata": {
  "kernelspec": {
   "display_name": "Python 3-12 (COMM4190)",
   "language": "python",
   "name": "python3-12_comm4190"
  },
  "language_info": {
   "codemirror_mode": {
    "name": "ipython",
    "version": 3
   },
   "file_extension": ".py",
   "mimetype": "text/x-python",
   "name": "python",
   "nbconvert_exporter": "python",
   "pygments_lexer": "ipython3",
   "version": "3.12.11"
  }
 },
 "nbformat": 4,
 "nbformat_minor": 5
}
